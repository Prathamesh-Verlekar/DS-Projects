{
 "cells": [
  {
   "cell_type": "code",
   "execution_count": 45,
   "metadata": {},
   "outputs": [],
   "source": [
    "#Importing libraries\n",
    "import pandas as pd\n",
    "import numpy as np\n",
    "import os\n",
    "import matplotlib.pyplot as plt\n",
    "from sklearn.preprocessing import LabelEncoder\n",
    "from sklearn.impute import SimpleImputer\n",
    "from sklearn.ensemble import RandomForestRegressor\n",
    "from sklearn.metrics import mean_absolute_error \n",
    "from sklearn.model_selection import train_test_split"
   ]
  },
  {
   "cell_type": "code",
   "execution_count": 52,
   "metadata": {},
   "outputs": [
    {
     "name": "stdout",
     "output_type": "stream",
     "text": [
      "D:\\Machine Learning Projects\n"
     ]
    }
   ],
   "source": [
    "print(os.getcwd())"
   ]
  },
  {
   "cell_type": "code",
   "execution_count": 47,
   "metadata": {},
   "outputs": [],
   "source": [
    "os.chdir('D:/Machine Learning Projects')"
   ]
  },
  {
   "cell_type": "code",
   "execution_count": 48,
   "metadata": {},
   "outputs": [],
   "source": [
    "# Reading csv file\n",
    "df = pd.read_csv('Google Playstore Dataset/googleplaystore.csv')"
   ]
  },
  {
   "cell_type": "code",
   "execution_count": 49,
   "metadata": {},
   "outputs": [],
   "source": [
    "#Cleaning the data\n",
    "#Cleaning data for \"Size\" Column\n",
    "#Syntax for map function map(func, iter)\n",
    "#lambda is used for building complex logic for a new column or filter\n",
    "df['Size'] = df['Size'].map(lambda x: x.rstrip('M'))\n",
    "df['Size'] = df['Size'].map(lambda x: str(round((float(x.rstrip('k'))/1024), 1)) if x[-1]=='k' else x)\n",
    "df['Size'] = df['Size'].map(lambda x: np.nan if x.startswith('Varies') else x)\n",
    "\n",
    "#Cleaning data for \"Installs\" Column\n",
    "df['Installs'] = df['Installs'].map(lambda x: x.rstrip('+'))\n",
    "df['Installs'] = df['Installs'].map(lambda x: ''.join(x.split(',')))\n",
    "\n",
    "#Cleaning data for \"Price\" Column\n",
    "df['Price'] = df['Price'].map(lambda x: x.lstrip('$').rstrip())\n",
    "\n",
    "#Removing row 10472 because of missing Category\n",
    "df.drop(df.index[10472], inplace=True)\n",
    "\n",
    "#Removing row 7312 and 8266 because of \"Unrated\" value in Content Rating\n",
    "df.drop(df.index[[7312,8266]], inplace=True)"
   ]
  },
  {
   "cell_type": "code",
   "execution_count": 50,
   "metadata": {},
   "outputs": [],
   "source": [
    "#We will have to sort the data since it is randomly sorted\n",
    "df.sort_values(\"Category\", inplace=True)"
   ]
  },
  {
   "cell_type": "code",
   "execution_count": 51,
   "metadata": {},
   "outputs": [
    {
     "data": {
      "text/plain": [
       "'\\nART_AND_DESIGN = 0\\nAUTO_AND_VEHICLES = 1\\nBEAUTY = 2 \\nBOOKS_AND_REFERENCE = 3\\nBUSINESS = 4\\nCOMICS = 5\\nCOMMUNICATION = 6\\nDATING = 7\\nEDUCATION = 8\\nENTERTAINMENT = 9\\nEVENTS = 10\\nFAMILY = 11\\nFINANCE = 12\\nFOOD_AND_DRINK = 13\\nGAME = 14\\nHEALTH_AND_FITNESS = 15\\nHOUSE_AND_HOME = 16\\nLIBRARIES_AND_DEMO = 17\\nLIFESTYLE = 18\\nMAPS_AND_NAVIGATION = 19\\nMEDICAL = 20\\nNEWS_AND_MAGAZINES = 21\\nPARENTING = 22\\nPERSONALIZATION = 23\\nPHOTOGRAPHY = 24\\nPRODUCTIVITY = 25\\nSHOPPING = 26\\nSOCIAL = 27\\nSPORTS = 28\\nTOOLS = 29\\nTRAVEL_AND_LOCAL = 30\\nVIDEO_PLAYERS = 31\\nWEATHER = 32\\n'"
      ]
     },
     "execution_count": 51,
     "metadata": {},
     "output_type": "execute_result"
    }
   ],
   "source": [
    "#For solving a regression problem we should convert strings into numberic values\n",
    "#For Label encoding\n",
    "lb_make = LabelEncoder()\n",
    "\n",
    "#Creating column for \"numeric\" Content Rating\n",
    "df[\"Content Rating Numeric\"] = lb_make.fit_transform(df[\"Content Rating\"])\n",
    "\n",
    "#Making dictionary for Content rating with numeric values\n",
    "dict_content_rating = {\"Adults only 18+\": 0, \"Everyone\": 1, \"Everyone 10+\": 2, \"Mature\": 3, \"Teen\": 4}\n",
    "\n",
    "# Numeric value for Content Rating\n",
    "#Comment for details\n",
    "'''\n",
    "Adults only 18+ = 0\n",
    "Everyone = 1\n",
    "Everyone 10+ = 2\n",
    "Mature 17+ = 3\n",
    "Teen = 4\n",
    "'''\n",
    "# Create column for \"numeric\" Category\n",
    "df[\"Category Numeric\"] = lb_make.fit_transform(df[\"Category\"])\n",
    "\n",
    "#Making dicitonary for Category with numeric values\n",
    "#We have already sorted the dataset with respect to Category so it will give values \n",
    "dict_category = {}\n",
    "val = 0\n",
    "for i in df[\"Category\"].unique():\n",
    "    dict_category[i] = val\n",
    "    val += 1\n",
    "    \n",
    "# Numeric value for Category\n",
    "'''\n",
    "ART_AND_DESIGN = 0\n",
    "AUTO_AND_VEHICLES = 1\n",
    "BEAUTY = 2 \n",
    "BOOKS_AND_REFERENCE = 3\n",
    "BUSINESS = 4\n",
    "COMICS = 5\n",
    "COMMUNICATION = 6\n",
    "DATING = 7\n",
    "EDUCATION = 8\n",
    "ENTERTAINMENT = 9\n",
    "EVENTS = 10\n",
    "FAMILY = 11\n",
    "FINANCE = 12\n",
    "FOOD_AND_DRINK = 13\n",
    "GAME = 14\n",
    "HEALTH_AND_FITNESS = 15\n",
    "HOUSE_AND_HOME = 16\n",
    "LIBRARIES_AND_DEMO = 17\n",
    "LIFESTYLE = 18\n",
    "MAPS_AND_NAVIGATION = 19\n",
    "MEDICAL = 20\n",
    "NEWS_AND_MAGAZINES = 21\n",
    "PARENTING = 22\n",
    "PERSONALIZATION = 23\n",
    "PHOTOGRAPHY = 24\n",
    "PRODUCTIVITY = 25\n",
    "SHOPPING = 26\n",
    "SOCIAL = 27\n",
    "SPORTS = 28\n",
    "TOOLS = 29\n",
    "TRAVEL_AND_LOCAL = 30\n",
    "VIDEO_PLAYERS = 31\n",
    "WEATHER = 32\n",
    "'''"
   ]
  },
  {
   "cell_type": "code",
   "execution_count": null,
   "metadata": {},
   "outputs": [],
   "source": []
  },
  {
   "cell_type": "code",
   "execution_count": null,
   "metadata": {},
   "outputs": [],
   "source": []
  }
 ],
 "metadata": {
  "kernelspec": {
   "display_name": "Python 3",
   "language": "python",
   "name": "python3"
  },
  "language_info": {
   "codemirror_mode": {
    "name": "ipython",
    "version": 3
   },
   "file_extension": ".py",
   "mimetype": "text/x-python",
   "name": "python",
   "nbconvert_exporter": "python",
   "pygments_lexer": "ipython3",
   "version": "3.7.4"
  }
 },
 "nbformat": 4,
 "nbformat_minor": 2
}
